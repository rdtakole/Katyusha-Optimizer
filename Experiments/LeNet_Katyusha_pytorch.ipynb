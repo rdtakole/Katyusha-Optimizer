{
  "nbformat": 4,
  "nbformat_minor": 0,
  "metadata": {
    "colab": {
      "name": "LeNet_Katyusha.ipynb",
      "provenance": [],
      "collapsed_sections": []
    },
    "kernelspec": {
      "name": "python3",
      "display_name": "Python 3"
    },
    "language_info": {
      "name": "python"
    },
    "accelerator": "GPU"
  },
  "cells": [
    {
      "cell_type": "code",
      "metadata": {
        "id": "g6aQNJR26leS"
      },
      "source": [
        "#Imort the required libraries\n",
        "import torch\n",
        "import torchvision\n",
        "import torchvision.transforms as transforms\n",
        "import torch.nn as nn\n",
        "import torch.nn.functional as F\n",
        "import torch.optim as optim\n",
        "from datetime import datetime\n",
        "import random\n",
        "import copy"
      ],
      "execution_count": null,
      "outputs": []
    },
    {
      "cell_type": "code",
      "metadata": {
        "colab": {
          "base_uri": "https://localhost:8080/"
        },
        "id": "aN0sBJkg9ySc",
        "outputId": "e251794a-b8c1-4283-c65c-21fb37d95e3d"
      },
      "source": [
        "device = torch.device(\"cuda:0\" if torch.cuda.is_available() else \"cpu\")\n",
        "\n",
        "# Assuming that we are on a CUDA machine, this should print a CUDA device:\n",
        "\n",
        "print(device)"
      ],
      "execution_count": null,
      "outputs": [
        {
          "output_type": "stream",
          "text": [
            "cuda:0\n"
          ],
          "name": "stdout"
        }
      ]
    },
    {
      "cell_type": "code",
      "metadata": {
        "id": "GwspR1Ba936k"
      },
      "source": [
        "transform = transforms.Compose([transforms.Resize((32, 32)),\n",
        "                                 transforms.ToTensor()])\n",
        "          "
      ],
      "execution_count": null,
      "outputs": []
    },
    {
      "cell_type": "code",
      "metadata": {
        "id": "mmM7cFSFEbnu"
      },
      "source": [
        "#Loading the data\n",
        "\n",
        "#Training set\n",
        "train_set = torchvision.datasets.MNIST(root='./data', train=True,download=True, transform=transform)\n",
        "train_loader = torch.utils.data.DataLoader(train_set, batch_size=128,shuffle=True, num_workers=2)\n",
        "# Testing set\n",
        "test_set = torchvision.datasets.MNIST(root='./data', train=False,download=True, transform=transform)\n",
        "test_loader = torch.utils.data.DataLoader(test_set, batch_size=128,shuffle=False, num_workers=2)"
      ],
      "execution_count": null,
      "outputs": []
    },
    {
      "cell_type": "code",
      "metadata": {
        "colab": {
          "base_uri": "https://localhost:8080/"
        },
        "id": "ZfaiFQOQEpWg",
        "outputId": "4fd00bdc-5479-45b8-edf9-559105ede24e"
      },
      "source": [
        "for images, labels in train_loader:\n",
        "    print('Image batch dimensions:', images.shape)\n",
        "    print('Image label dimensions:', labels.shape)\n",
        "    print(len(train_loader))\n",
        "    break"
      ],
      "execution_count": null,
      "outputs": [
        {
          "output_type": "stream",
          "text": [
            "Image batch dimensions: torch.Size([128, 1, 28, 28])\n",
            "Image label dimensions: torch.Size([128])\n",
            "469\n"
          ],
          "name": "stdout"
        }
      ]
    },
    {
      "cell_type": "code",
      "metadata": {
        "id": "7a_xZDgPqoT-"
      },
      "source": [
        "# Define the CNN\n",
        "class LeNet(nn.Module):\n",
        "  def __init__(self, num_class=10):\n",
        "    super(LeNet, self).__init__()\n",
        "    self.features  = nn.Sequential(\n",
        "        nn.Conv2d(1, 6, 5), \n",
        "        nn.ReLU(),\n",
        "        nn.MaxPool2d(2), \n",
        "        nn.Conv2d(6, 16, 5),\n",
        "        nn.ReLU(), \n",
        "        nn.MaxPool2d(2))\n",
        "    \n",
        "    self.classifier = nn.Sequential(\n",
        "        nn.Linear(256, 120), \n",
        "        nn.ReLU(), \n",
        "        nn.Linear(120, 84), \n",
        "        nn.ReLU(), \n",
        "        nn.Linear(84, num_class))\n",
        "    \n",
        "  def forward(self,x):\n",
        "    x = self.features(x)\n",
        "    x = x.view(x.size(0), -1) \n",
        "    x = self.classifier(x)\n",
        "    return x"
      ],
      "execution_count": null,
      "outputs": []
    },
    {
      "cell_type": "code",
      "metadata": {
        "id": "aSXWKSJU6JTE"
      },
      "source": [
        "from torch.optim import Optimizer\n",
        "import copy\n",
        "\n",
        "\n",
        "class Katyusha_k(Optimizer):\n",
        "    \"\"\"Optimizer for calculating the gradient step in the inner loop of the algorithm\n",
        "    Args:\n",
        "        params (iterable): Network parameters\n",
        "        lips : Lipschitz constant\n",
        "        m : No of iterations to be performed in the inner loop    \n",
        "    \"\"\"\n",
        "    def __init__(self, params, lips = 10, m = 500):\n",
        "        if lips < 0.0:\n",
        "            raise ValueError(\"Invalid lipschitz constant : {}\".format(lips))\n",
        "        if m < 0.0:\n",
        "            raise ValueError(\"Invalid frequency value: {}\".format(m))\n",
        "        self.x_tilda = None\n",
        "        self.tau_2 = 0.5\n",
        "        self.counter = 0\n",
        "        self.lips = lips\n",
        "        self.m = m    \n",
        "        defaults = dict(lips=lips, m=m)\n",
        "        super(Katyusha_k, self).__init__(params, defaults)\n",
        "    \n",
        "    def get_param_groups(self):\n",
        "            return self.avg_y\n",
        "\n",
        "    def set_outparam(self, new_param):\n",
        "        \"\"\" Set the out parameter for the epoch\n",
        "        \"\"\"\n",
        "        self.tau_1 = 2/(self.counter+4)\n",
        "        self.counter += 1\n",
        "        self.alpha = 1/(3*self.tau_1*self.lips) \n",
        "        if self.x_tilda is None:\n",
        "            self.x_k = copy.deepcopy(new_param)\n",
        "            self.y_k = copy.deepcopy(new_param)\n",
        "            self.z_k = copy.deepcopy(new_param)\n",
        "            self.avg_y = copy.deepcopy(new_param)\n",
        "        self.x_tilda = copy.deepcopy(new_param)\n",
        "        for xtil_group, new_group in zip(self.x_tilda, new_param):  \n",
        "            for xtil, new_u in zip(xtil_group['params'], new_group['params']):\n",
        "                xtil.grad = new_u.grad.clone()\n",
        "        for avg_grp, param in zip(self.avg_y,self.y_k):\n",
        "          for avg, par in zip(avg_grp['params'],param['params']):\n",
        "            avg.data = torch.zeros_like(par.data)        \n",
        "\n",
        "    def compute_xk(self):\n",
        "        for x,y,z,x_tilda in zip(self.param_groups,self.y_k,self.z_k,self.x_tilda):\n",
        "            for xk,yk,zk,xtil in zip(x['params'],y['params'],z['params'],x_tilda['params']):\n",
        "                xk.data = (self.tau_1*zk.data) + (self.tau_2*xtil.data) + ((1-self.tau_1-self.tau_2)*yk.data)\n",
        "            \n",
        "\n",
        "    def step(self, params):\n",
        "        \"\"\"Performs a single optimization step.\n",
        "        \"\"\"\n",
        "        for group, new_group, xtilda_group, yk, zk, avg in zip(self.param_groups, params, self.x_tilda, self.y_k, self.z_k, self.avg_y):\n",
        "            for p, q, u, y, z, av in zip(group['params'], new_group['params'], xtilda_group['params'], yk['params'], zk['params'], avg['params']):\n",
        "                if p.grad is None:\n",
        "                    continue\n",
        "                if q.grad is None:\n",
        "                    continue\n",
        "                # Katyusha gradient update \n",
        "                new_d = p.grad.data - q.grad.data + u.grad.data\n",
        "                y.data = p.data - (1/(3*self.lips))*new_d\n",
        "                z.data = z.data - (self.alpha*new_d)\n",
        "                av.data = av.data + (1/self.m)*y.data\n",
        "\n",
        "\n",
        "class Katyusha_Snapshot(Optimizer):\n",
        "    \"\"\"Optimizer for calculating the mean gradient w.r.t snapshot parameters (snapshot)\n",
        "    Args:\n",
        "        params (iterable): Network parameters\n",
        "    \"\"\"\n",
        "    def __init__(self, params):\n",
        "        defaults = dict()\n",
        "        super(Katyusha_Snapshot, self).__init__(params, defaults)\n",
        "      \n",
        "    def get_param_groups(self):\n",
        "            return self.param_groups\n",
        "    \n",
        "    def set_param_groups(self, new_parameters):\n",
        "        \"\"\"Copies the parameters from Katyusha_k optimizer. \n",
        "        \"\"\"\n",
        "        for group, new_group in zip(self.param_groups, new_parameters): \n",
        "            for p, q in zip(group['params'], new_group['params']):\n",
        "                  p.data[:] = q.data[:]"
      ],
      "execution_count": null,
      "outputs": []
    },
    {
      "cell_type": "code",
      "metadata": {
        "id": "vWpnzBRv_xEx"
      },
      "source": [
        "net_snap = LeNet()\n",
        "net_step = LeNet()"
      ],
      "execution_count": null,
      "outputs": []
    },
    {
      "cell_type": "code",
      "metadata": {
        "colab": {
          "base_uri": "https://localhost:8080/"
        },
        "id": "fWzW3g7I_47K",
        "outputId": "68c6bf63-feef-4824-cfb4-4f2fe6d19269"
      },
      "source": [
        "net_step.load_state_dict(net_snap.state_dict())"
      ],
      "execution_count": null,
      "outputs": [
        {
          "output_type": "execute_result",
          "data": {
            "text/plain": [
              "<All keys matched successfully>"
            ]
          },
          "metadata": {
            "tags": []
          },
          "execution_count": 63
        }
      ]
    },
    {
      "cell_type": "code",
      "metadata": {
        "colab": {
          "base_uri": "https://localhost:8080/"
        },
        "id": "We2mC7ml_8bz",
        "outputId": "b7aa439b-4c0f-43cc-8964-dac2183fb62c"
      },
      "source": [
        "net_snap.to(device)"
      ],
      "execution_count": null,
      "outputs": [
        {
          "output_type": "execute_result",
          "data": {
            "text/plain": [
              "LeNet(\n",
              "  (features): Sequential(\n",
              "    (0): Conv2d(1, 6, kernel_size=(5, 5), stride=(1, 1))\n",
              "    (1): ReLU()\n",
              "    (2): MaxPool2d(kernel_size=2, stride=2, padding=0, dilation=1, ceil_mode=False)\n",
              "    (3): Conv2d(6, 16, kernel_size=(5, 5), stride=(1, 1))\n",
              "    (4): ReLU()\n",
              "    (5): MaxPool2d(kernel_size=2, stride=2, padding=0, dilation=1, ceil_mode=False)\n",
              "  )\n",
              "  (classifier): Sequential(\n",
              "    (0): Linear(in_features=256, out_features=120, bias=True)\n",
              "    (1): ReLU()\n",
              "    (2): Linear(in_features=120, out_features=84, bias=True)\n",
              "    (3): ReLU()\n",
              "    (4): Linear(in_features=84, out_features=10, bias=True)\n",
              "  )\n",
              ")"
            ]
          },
          "metadata": {
            "tags": []
          },
          "execution_count": 64
        }
      ]
    },
    {
      "cell_type": "code",
      "metadata": {
        "colab": {
          "base_uri": "https://localhost:8080/"
        },
        "id": "kG69Bcqs__N2",
        "outputId": "a20a95fe-e7de-4bdb-a841-eef36b194db9"
      },
      "source": [
        "net_step.to(device)"
      ],
      "execution_count": null,
      "outputs": [
        {
          "output_type": "execute_result",
          "data": {
            "text/plain": [
              "LeNet(\n",
              "  (features): Sequential(\n",
              "    (0): Conv2d(1, 6, kernel_size=(5, 5), stride=(1, 1))\n",
              "    (1): ReLU()\n",
              "    (2): MaxPool2d(kernel_size=2, stride=2, padding=0, dilation=1, ceil_mode=False)\n",
              "    (3): Conv2d(6, 16, kernel_size=(5, 5), stride=(1, 1))\n",
              "    (4): ReLU()\n",
              "    (5): MaxPool2d(kernel_size=2, stride=2, padding=0, dilation=1, ceil_mode=False)\n",
              "  )\n",
              "  (classifier): Sequential(\n",
              "    (0): Linear(in_features=256, out_features=120, bias=True)\n",
              "    (1): ReLU()\n",
              "    (2): Linear(in_features=120, out_features=84, bias=True)\n",
              "    (3): ReLU()\n",
              "    (4): Linear(in_features=84, out_features=10, bias=True)\n",
              "  )\n",
              ")"
            ]
          },
          "metadata": {
            "tags": []
          },
          "execution_count": 65
        }
      ]
    },
    {
      "cell_type": "code",
      "metadata": {
        "id": "TMdOF5E-AaFE"
      },
      "source": [
        "criterion = nn.CrossEntropyLoss().to(device)\n",
        "optimizer_snap = Katyusha_Snapshot(net_snap.parameters())\n",
        "optimizer_step = Katyusha_k(net_step.parameters())"
      ],
      "execution_count": null,
      "outputs": []
    },
    {
      "cell_type": "code",
      "metadata": {
        "colab": {
          "base_uri": "https://localhost:8080/"
        },
        "id": "CouqV7LzAf6o",
        "outputId": "74d05ae6-8eeb-487b-871e-516c6a468451"
      },
      "source": [
        "train_loss = []\n",
        "accuracy_list = []\n",
        "for epoch in range(30):\n",
        "    \n",
        "    running_loss = 0\n",
        "    optimizer_snap.zero_grad() \n",
        "    for i, data in enumerate(train_loader, 0):\n",
        "    # Get the inputs\n",
        "        inputs, labels = data[0].to(device), data[1].to(device)\n",
        "    # Zero the parameter gradients\n",
        "        outputs = net_snap(inputs)\n",
        "        loss = criterion(outputs, labels) / len(train_loader)\n",
        "        loss.backward()\n",
        "        running_loss += loss.item()\n",
        "    train_loss.append(running_loss)\n",
        "    p = optimizer_snap.get_param_groups()\n",
        "    optimizer_step.set_outparam(p)\n",
        "    for i in range(500):\n",
        "        optimizer_step.compute_xk()\n",
        "        data = next(iter(train_loader))\n",
        "        inp, lab = data[0].to(device), data[1].to(device)\n",
        "        out_step = net_step(inp)\n",
        "        l_step = criterion(out_step, lab)\n",
        "        optimizer_step.zero_grad()\n",
        "        l_step.backward()\n",
        "\n",
        "        out_snap = net_snap(inp)\n",
        "        l_snap = criterion(out_snap, lab)\n",
        "        optimizer_snap.zero_grad()\n",
        "        l_snap.backward()\n",
        "        optimizer_step.step(optimizer_snap.get_param_groups())\n",
        "    optimizer_snap.set_param_groups(optimizer_step.get_param_groups())\n",
        "    \n",
        "    \n",
        "    correct = 0\n",
        "    total = 0\n",
        "    net_snap.eval()\n",
        "    for i, data in enumerate(test_loader, 0):\n",
        "        images, label = data[0].to(device),data[1].to(device)\n",
        "        output = net_snap(images)\n",
        "        _, predicted = torch.max(output.data, 1)\n",
        "        total += label.size(0)\n",
        "        correct += (predicted == label).sum().item()\n",
        "\n",
        "    accuracy = 100 * correct / total\n",
        "    accuracy_list.append(accuracy)\n",
        "    print('Iteration: {}  Train_Loss: {}  Accuracy: {} %'.format(epoch, running_loss, accuracy))    \n",
        "        \n",
        "        "
      ],
      "execution_count": null,
      "outputs": [
        {
          "output_type": "stream",
          "text": [
            "Iteration: 0  Train_Loss: 2.3070016857236624  Accuracy: 86.33 %\n",
            "Iteration: 1  Train_Loss: 1.069487128406763  Accuracy: 95.05 %\n",
            "Iteration: 2  Train_Loss: 0.17052728433918674  Accuracy: 97.4 %\n",
            "Iteration: 3  Train_Loss: 0.08771049025381217  Accuracy: 97.99 %\n",
            "Iteration: 4  Train_Loss: 0.058558278524287743  Accuracy: 98.38 %\n",
            "Iteration: 5  Train_Loss: 0.04148895116759377  Accuracy: 98.53 %\n",
            "Iteration: 6  Train_Loss: 0.030184540916252445  Accuracy: 98.7 %\n",
            "Iteration: 7  Train_Loss: 0.02213365389388855  Accuracy: 98.56 %\n",
            "Iteration: 8  Train_Loss: 0.027587656298464935  Accuracy: 98.52 %\n",
            "Iteration: 9  Train_Loss: 0.03267874855919217  Accuracy: 98.77 %\n",
            "Iteration: 10  Train_Loss: 0.02027785126983872  Accuracy: 98.94 %\n",
            "Iteration: 11  Train_Loss: 0.013544244871923183  Accuracy: 98.89 %\n",
            "Iteration: 12  Train_Loss: 0.009309507599027711  Accuracy: 98.97 %\n",
            "Iteration: 13  Train_Loss: 0.006408879584029137  Accuracy: 99.0 %\n",
            "Iteration: 14  Train_Loss: 0.0042141068069270204  Accuracy: 98.97 %\n",
            "Iteration: 15  Train_Loss: 0.0027762689955110886  Accuracy: 98.95 %\n",
            "Iteration: 16  Train_Loss: 0.0019747837922361455  Accuracy: 98.96 %\n",
            "Iteration: 17  Train_Loss: 0.004111372819728842  Accuracy: 98.9 %\n",
            "Iteration: 18  Train_Loss: 0.0035023236079148035  Accuracy: 98.86 %\n",
            "Iteration: 19  Train_Loss: 0.002347153284599557  Accuracy: 98.87 %\n",
            "Iteration: 20  Train_Loss: 0.0015685972594416953  Accuracy: 98.89 %\n",
            "Iteration: 21  Train_Loss: 0.0010479187089362796  Accuracy: 98.91 %\n",
            "Iteration: 22  Train_Loss: 0.0008228184805032512  Accuracy: 98.9 %\n",
            "Iteration: 23  Train_Loss: 0.0006381463611067062  Accuracy: 98.95 %\n",
            "Iteration: 24  Train_Loss: 0.000590666427919051  Accuracy: 98.97 %\n",
            "Iteration: 25  Train_Loss: 0.0007365342785667379  Accuracy: 98.82 %\n",
            "Iteration: 26  Train_Loss: 0.0006804955855094219  Accuracy: 98.89 %\n",
            "Iteration: 27  Train_Loss: 0.0006568312053951697  Accuracy: 98.86 %\n",
            "Iteration: 28  Train_Loss: 0.0007100062062052881  Accuracy: 98.95 %\n",
            "Iteration: 29  Train_Loss: 0.00084589441804514  Accuracy: 99.05 %\n"
          ],
          "name": "stdout"
        }
      ]
    },
    {
      "cell_type": "code",
      "metadata": {
        "id": "jIYzaFLnIDCm"
      },
      "source": [
        "import matplotlib.pyplot as plt"
      ],
      "execution_count": null,
      "outputs": []
    },
    {
      "cell_type": "code",
      "metadata": {
        "colab": {
          "base_uri": "https://localhost:8080/",
          "height": 313
        },
        "id": "7M9WywJpAlzN",
        "outputId": "5f2cecca-2fd7-4c34-adb0-59591cae5b6a"
      },
      "source": [
        "plt.plot(train_loss)\n",
        "plt.xlabel('Epoch')\n",
        "plt.ylabel('Loss')\n",
        "plt.title('Training Loss on MNIST')"
      ],
      "execution_count": null,
      "outputs": [
        {
          "output_type": "execute_result",
          "data": {
            "text/plain": [
              "Text(0.5, 1.0, 'Training Loss on MNIST')"
            ]
          },
          "metadata": {
            "tags": []
          },
          "execution_count": 15
        },
        {
          "output_type": "display_data",
          "data": {
            "image/png": "[encoded data removed]",
            "text/plain": [
              "<Figure size 432x288 with 1 Axes>"
            ]
          },
          "metadata": {
            "tags": [],
            "needs_background": "light"
          }
        }
      ]
    },
    {
      "cell_type": "code",
      "metadata": {
        "colab": {
          "base_uri": "https://localhost:8080/",
          "height": 313
        },
        "id": "poWA5G3WIG1n",
        "outputId": "58813a6a-0e7c-4f11-9a6e-7ca6ad559e89"
      },
      "source": [
        "plt.plot(accuracy_list)\n",
        "plt.xlabel('Epoch')\n",
        "plt.ylabel('Loss')\n",
        "plt.title('Accuracy on MNIST test data')"
      ],
      "execution_count": null,
      "outputs": [
        {
          "output_type": "execute_result",
          "data": {
            "text/plain": [
              "Text(0.5, 1.0, 'Accuracy on MNIST test data')"
            ]
          },
          "metadata": {
            "tags": []
          },
          "execution_count": 16
        },
        {
          "output_type": "display_data",
          "data": {
            "image/png": "[encoded data removed]",
            "text/plain": [
              "<Figure size 432x288 with 1 Axes>"
            ]
          },
          "metadata": {
            "tags": [],
            "needs_background": "light"
          }
        }
      ]
    },
    {
      "cell_type": "code",
      "metadata": {
        "id": "h2BBX7NiHBnv"
      },
      "source": [
        ""
      ],
      "execution_count": null,
      "outputs": []
    }
  ]
}