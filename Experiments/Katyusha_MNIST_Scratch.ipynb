{
  "nbformat": 4,
  "nbformat_minor": 0,
  "metadata": {
    "colab": {
      "name": "Katyusha_MNIST.ipynb",
      "provenance": [],
      "collapsed_sections": []
    },
    "kernelspec": {
      "name": "python3",
      "display_name": "Python 3"
    }
  },
  "cells": [
    {
      "cell_type": "code",
      "metadata": {
        "id": "ypRAzgQDdfcr"
      },
      "source": [
        "# Import required libraries\n",
        "import random\n",
        "import pickle \n",
        "import gzip\n",
        "import numpy as np\n",
        "import matplotlib.pyplot as plt"
      ],
      "execution_count": null,
      "outputs": []
    },
    {
      "cell_type": "code",
      "metadata": {
        "id": "3nHKHfMWdro7"
      },
      "source": [
        "# To load MNIST data\n",
        "def load_data():\n",
        "  \"\"\"\" Training Data ------------------------> tuple with 2 entries with 50,000 entries\n",
        "                                               first entry is training images which is numpy ndarray of 784 values (28*28)\n",
        "                                               second entry is digit value (0 to 9) corresponding to the image in first entry\n",
        "\n",
        "       Validation and Test Data -------------> Its similar to training data except each with 10,000 entries\"\"\"\n",
        "\n",
        "  file = gzip.open('mnist.pkl.gz', 'rb')\n",
        "  training_data, validation_data, test_data = pickle.load(file,encoding='latin1')\n",
        "  file.close()\n",
        "  return (training_data, validation_data, test_data)\n",
        "\n",
        "def data_loader():\n",
        "  \"\"\" Returns a tuple containing training data, validation data and test data\n",
        "      Training data --------------------> converted into the list of tuples (x,y) with 50,000 entries\n",
        "                                          x is numpy ndarray of 784 values and y is numpy ndarray of 10 values which is a unit vector\n",
        "                                          corresponding to the digit x\n",
        "      Validation and Test data ---------> converted into the list of tuples (x,y) with 50,000 entries each\n",
        "                                          first entry is training images which is numpy ndarray of 784 values (28*28)\n",
        "                                          second entry is digit value (0 to 9) corresponding to the image in first entry \"\"\"\n",
        "  train_d, val_d, test_d = load_data()\n",
        "  train_inputs = [np.reshape(x, (784, 1)) for x in train_d[0]]\n",
        "  train_outputs = [vectorized_output(y) for y in train_d[1]]\n",
        "  training_data = zip(train_inputs, train_outputs)\n",
        "  val_inputs = [np.reshape(x, (784, 1)) for x in val_d[0]]\n",
        "  validation_data = zip(val_inputs, val_d[1])\n",
        "  test_inputs = [np.reshape(x, (784, 1)) for x in test_d[0]]\n",
        "  test_data = zip(test_inputs, test_d[1])\n",
        "  return (training_data, validation_data, test_data)\n",
        "\n",
        "def vectorized_output(i):\n",
        "  \"\"\" Returns a unit vector with a 1.0 at i^th position\"\"\"\n",
        "  v = np.zeros((10, 1))\n",
        "  v[i] = 1.0\n",
        "  return v"
      ],
      "execution_count": null,
      "outputs": []
    },
    {
      "cell_type": "markdown",
      "metadata": {
        "id": "0dvIEgeXw0KI"
      },
      "source": [
        "# Equations used in backpropogation:\n",
        "\n",
        "\\begin{eqnarray} \n",
        "  \\delta^L_j = \\frac{\\partial C}{\\partial a^L_j} \\sigma'(z^L_j)\n",
        "\\end{eqnarray}\n",
        "\\begin{eqnarray} \n",
        "  \\delta^L = (a^L-y) \\odot \\sigma'(z^L)\n",
        "\\end{eqnarray}\n",
        "\\begin{eqnarray} \n",
        "  \\delta^l = ((w^{l+1})^T \\delta^{l+1}) \\odot \\sigma'(z^l)\n",
        "\\end{eqnarray}\n",
        "\\begin{eqnarray}  \\frac{\\partial C}{\\partial b^l_j} =\n",
        "  \\delta^l_j\n",
        "\\end{eqnarray}\n",
        "\\begin{eqnarray}\n",
        "  \\frac{\\partial C}{\\partial w^l_{jk}} = a^{l-1}_k \\delta^l_j\n",
        "\\end{eqnarray}\n"
      ]
    },
    {
      "cell_type": "code",
      "metadata": {
        "id": "T1_gKzngwuo9"
      },
      "source": [
        ""
      ],
      "execution_count": null,
      "outputs": []
    },
    {
      "cell_type": "code",
      "metadata": {
        "id": "iEm1U9lCdxry"
      },
      "source": [
        "class NeuralNet(object):\n",
        "\n",
        "  def __init__(self, sizes):\n",
        "    \"\"\" sizes ----> list of no. of neurons in each layer,\n",
        "        Initialize weights and biases\"\"\"\n",
        "    self.num_layers = len(sizes)\n",
        "    self.sizes = sizes\n",
        "    self.biases = [np.random.randn(y, 1) for y in sizes[1:]]\n",
        "    self.weights = [np.random.randn(y, x)\n",
        "                        for x, y in zip(sizes[:-1], sizes[1:])]             \n",
        "\n",
        "  def feedforward(self, a):\n",
        "    \"\"\"computes output of the network \"\"\"\n",
        "    for b, w in zip(self.biases, self.weights):\n",
        "      a = sigmoid(np.dot(w, a)+b)   \n",
        "    return a\n",
        "\n",
        "  def Katyusha(self, training_data, epochs, L,\n",
        "            test_data=None): \n",
        "    \"\"\"Training algorithm for training the neural net,\n",
        "       L is a Lipschitz constant\"\"\"        \n",
        "    training_data = list(training_data)\n",
        "    n = len(training_data)\n",
        "    m = 2*n\n",
        "    tau_2 = 0.5\n",
        "    \n",
        "    if test_data:\n",
        "        test_data = list(test_data)\n",
        "        n_test = len(test_data)\n",
        "    training_cost = []    \n",
        "    test_accuracy = []\n",
        "    weights = self.weights.copy()\n",
        "    biases = self.biases.copy()\n",
        "\n",
        "    # Initializing x_k, y_k , z_k \n",
        "    x_w = np.array(weights)\n",
        "    y_w = x_w.copy()\n",
        "    z_w = x_w.copy()\n",
        "    \n",
        "    x_b = np.array(biases)\n",
        "    y_b = x_b.copy()\n",
        "    z_b = x_b.copy()\n",
        "    \n",
        "    for S in range(epochs):\n",
        "      tau_1 = 2/(S+4)\n",
        "      alpha = 1/(3*tau_1*L)\n",
        "\n",
        "      random.shuffle(training_data)\n",
        "      #compute the full gradient with respect to weights and biases\n",
        "      g_b, g_w = self.full_grad(training_data, self.weights, self.biases)\n",
        "      mu_s_w = (1/n)*np.array(g_w)\n",
        "      mu_s_b = (1/n)*np.array(g_b)\n",
        "      \n",
        "      # Initialize x^s_tilda\n",
        "      x_w_tilda = np.array(self.weights)\n",
        "      x_b_tilda = np.array(self.biases)\n",
        "\n",
        "      b = np.array([np.zeros(w.shape) for w in self.weights])\n",
        "      c = np.array([np.zeros(b.shape) for b in self.biases])\n",
        "\n",
        "      for j in range(m):\n",
        "        # compute x_k\n",
        "        x_w = (tau_1*z_w) + (tau_2*x_w_tilda) + ((1-tau_1-tau_2)*y_w)\n",
        "        x_b = (tau_1*z_b) + (tau_2*x_b_tilda) + ((1-tau_1-tau_2)*y_b)\n",
        "        for i in range(len(weights)):\n",
        "          weights[i] = x_w[i]\n",
        "        for i in range(len(biases)):\n",
        "          biases[i] = x_b[i] \n",
        "\n",
        "        p, q = random.choice(training_data)\n",
        "\n",
        "        # compute sample gradient w.r.t. x_k \n",
        "        nabla_p,nabla_q = self.sample_grad(p, q, weights, biases)\n",
        "        # compute sample gradient w.r.t x^s_tilda\n",
        "        nabla_r,nabla_s = self.sample_grad(p, q, self.weights, self.biases)\n",
        "        \n",
        "        # compute gradient estimator\n",
        "        grad_w = mu_s_w + np.array(nabla_q) - np.array(nabla_s)\n",
        "        grad_b = mu_s_b + np.array(nabla_p) - np.array(nabla_r)\n",
        "\n",
        "        # Update y_k and z_k\n",
        "        y_w = x_w - (1/(3*L))*grad_w\n",
        "        y_b = x_b - (1/(3*L))*grad_b\n",
        "        z_w =  z_w - (alpha*grad_w)\n",
        "        z_b =  z_b - (alpha*grad_b)\n",
        "        \n",
        "        # Compute sum of recent y_k \n",
        "        b = b + y_w\n",
        "        c = c + y_b\n",
        "    \n",
        "      # Compute x^s_tilda as avg. of recent y_k\n",
        "      avg_w = (1/m)*b\n",
        "      avg_b = (1/m)*c\n",
        "\n",
        "     # Update x^s_tilda i.e. weights and biases\n",
        "      for i in range(len(self.weights)):\n",
        "        self.weights[i] = avg_w[i]\n",
        "      for i in range(len(self.biases)):\n",
        "        self.biases[i] = avg_b[i]\n",
        "\n",
        "\n",
        "\n",
        "      cost = self.total_cost(training_data)\n",
        "      training_cost.append(cost)\n",
        "      if test_data:\n",
        "              print(\"Epoch {} : {} / {}\".format(S,self.evaluate(test_data),n_test));\n",
        "              accuracy = self.evaluate(test_data)/len(test_data)\n",
        "              test_accuracy.append(accuracy)\n",
        "      else:\n",
        "              print(\"Epoch {} complete\".format(S))\n",
        "    return training_cost , test_accuracy    \n",
        "\n",
        "\n",
        "  def full_grad(self,training_data, weights, biases):\n",
        "    \"\"\" Returns full gradient w.r.t to biases and weights\"\"\"\n",
        "    gradient_b = [np.zeros(b.shape) for b in biases]\n",
        "    gradient_w = [np.zeros(w.shape) for w in weights]\n",
        "    for x, y in training_data:\n",
        "      delta_b, delta_w = self.backprop(x, y, weights, biases)\n",
        "      gradient_b = [g_b+d_b for g_b, d_b in zip(gradient_b, delta_b)]\n",
        "      gradient_w = [g_w+d_w for g_w, d_w in zip(gradient_w, delta_w)]\n",
        "    return (gradient_b,gradient_w)  \n",
        "\n",
        "  def sample_grad(self, x, y, weight, bias):\n",
        "    \"\"\" Returns sample gradient w.r.t to biases and weights\"\"\"\n",
        "    gi_b , gi_w = self.backprop(x, y, weight, bias)\n",
        "    return (gi_b, gi_w)\n",
        "\n",
        "\n",
        "\n",
        "  def backprop(self, x, y, weights, biases):\n",
        "    \"\"\"calculates gradient of cost function with respect to weights and biases\"\"\"\n",
        "    nabla_b = [np.zeros(b.shape) for b in biases]\n",
        "    nabla_w = [np.zeros(w.shape) for w in weights]\n",
        "    activation = x\n",
        "    activations = [x]\n",
        "    zs = []\n",
        "    for b, w in zip(biases, weights):\n",
        "      z = np.dot(w, activation)+b\n",
        "      zs.append(z)\n",
        "      activation = sigmoid(z)\n",
        "      activations.append(activation)\n",
        "    delta = self.cost_derivative(activations[-1], y) * \\\n",
        "            sigmoid_prime(zs[-1])\n",
        "    nabla_b[-1] = delta\n",
        "    nabla_w[-1] = np.dot(delta, activations[-2].transpose())\n",
        "    for l in range(2, self.num_layers):\n",
        "      z = zs[-l]\n",
        "      sp = sigmoid_prime(z)\n",
        "      delta = np.dot(weights[-l+1].transpose(), delta) * sp\n",
        "      nabla_b[-l] = delta\n",
        "      nabla_w[-l] = np.dot(delta, activations[-l-1].transpose())\n",
        "    return (nabla_b, nabla_w)\n",
        "\n",
        "  def evaluate(self, test_data):\n",
        "    \"\"\"Returns the number of test inputs which are correctly classified by\n",
        "    the neural network\"\"\"\n",
        "    test_results = [(np.argmax(self.feedforward(x)), y)\n",
        "                        for (x, y) in test_data]\n",
        "    return sum(int(x == y) for (x, y) in test_results)\n",
        "\n",
        "  def total_cost(self,data):\n",
        "    \"\"\"computs the training cost\"\"\"\n",
        "    c=0.0\n",
        "    for x,y in data:\n",
        "      a = self.feedforward(x)\n",
        "      c += (0.5*np.linalg.norm(a-y)**2)/len(data)\n",
        "    return c  \n",
        "\n",
        "  def cost_derivative(self, output_activations, y):\n",
        "    return (output_activations-y)\n",
        "\n",
        " \n",
        "def sigmoid(z):\n",
        "  return 1.0/(1.0+np.exp(-z))   \n",
        "def sigmoid_prime(z):\n",
        "  return sigmoid(z)*(1-sigmoid(z))\n",
        "\n",
        "                                                        "
      ],
      "execution_count": null,
      "outputs": []
    },
    {
      "cell_type": "code",
      "metadata": {
        "id": "YkLYRzBIqbQr"
      },
      "source": [
        "training_data, validation_data, test_data = data_loader()"
      ],
      "execution_count": null,
      "outputs": []
    },
    {
      "cell_type": "code",
      "metadata": {
        "colab": {
          "base_uri": "https://localhost:8080/"
        },
        "id": "OFOJ-DY5uOM7",
        "outputId": "568ed1cc-cbd9-482d-95ed-3df31ac04b66"
      },
      "source": [
        "training_data = list(training_data)\n",
        "print(len(training_data))\n",
        "m, n = random.choice(training_data)\n",
        "print(n)"
      ],
      "execution_count": null,
      "outputs": [
        {
          "output_type": "stream",
          "text": [
            "50000\n",
            "[[0.]\n",
            " [0.]\n",
            " [0.]\n",
            " [0.]\n",
            " [0.]\n",
            " [0.]\n",
            " [1.]\n",
            " [0.]\n",
            " [0.]\n",
            " [0.]]\n"
          ],
          "name": "stdout"
        }
      ]
    },
    {
      "cell_type": "code",
      "metadata": {
        "id": "WQ9EyC-Dqexf"
      },
      "source": [
        "net = NeuralNet([784, 30, 10])"
      ],
      "execution_count": null,
      "outputs": []
    },
    {
      "cell_type": "code",
      "metadata": {
        "id": "-RdhIZ1oGA4s"
      },
      "source": [
        "np.warnings.filterwarnings('ignore', category=np.VisibleDeprecationWarning)"
      ],
      "execution_count": null,
      "outputs": []
    },
    {
      "cell_type": "code",
      "metadata": {
        "id": "rMZf5f3-qiff",
        "colab": {
          "base_uri": "https://localhost:8080/"
        },
        "outputId": "183e3ca7-907e-4dac-fa1f-9e99baf84774"
      },
      "source": [
        "training_cost,test_accuracy = net.Katyusha(training_data, 50, 20,\n",
        "            test_data=test_data)"
      ],
      "execution_count": null,
      "outputs": [
        {
          "output_type": "stream",
          "text": [
            "Epoch 0 : 3679 / 10000\n",
            "Epoch 1 : 7049 / 10000\n",
            "Epoch 2 : 7700 / 10000\n",
            "Epoch 3 : 7923 / 10000\n",
            "Epoch 4 : 8054 / 10000\n",
            "Epoch 5 : 8126 / 10000\n",
            "Epoch 6 : 8161 / 10000\n",
            "Epoch 7 : 8860 / 10000\n",
            "Epoch 8 : 9283 / 10000\n",
            "Epoch 9 : 9316 / 10000\n",
            "Epoch 10 : 9356 / 10000\n",
            "Epoch 11 : 9373 / 10000\n",
            "Epoch 12 : 9391 / 10000\n",
            "Epoch 13 : 9407 / 10000\n",
            "Epoch 14 : 9413 / 10000\n",
            "Epoch 15 : 9413 / 10000\n",
            "Epoch 16 : 9402 / 10000\n",
            "Epoch 17 : 9402 / 10000\n",
            "Epoch 18 : 9407 / 10000\n",
            "Epoch 19 : 9413 / 10000\n",
            "Epoch 20 : 9412 / 10000\n",
            "Epoch 21 : 9414 / 10000\n",
            "Epoch 22 : 9406 / 10000\n",
            "Epoch 23 : 9407 / 10000\n",
            "Epoch 24 : 9406 / 10000\n",
            "Epoch 25 : 9407 / 10000\n",
            "Epoch 26 : 9404 / 10000\n",
            "Epoch 27 : 9400 / 10000\n",
            "Epoch 28 : 9402 / 10000\n",
            "Epoch 29 : 9405 / 10000\n",
            "Epoch 30 : 9407 / 10000\n",
            "Epoch 31 : 9416 / 10000\n",
            "Epoch 32 : 9421 / 10000\n",
            "Epoch 33 : 9419 / 10000\n",
            "Epoch 34 : 9418 / 10000\n",
            "Epoch 35 : 9410 / 10000\n",
            "Epoch 36 : 9415 / 10000\n",
            "Epoch 37 : 9417 / 10000\n",
            "Epoch 38 : 9422 / 10000\n",
            "Epoch 39 : 9422 / 10000\n",
            "Epoch 40 : 9419 / 10000\n",
            "Epoch 41 : 9418 / 10000\n",
            "Epoch 42 : 9418 / 10000\n",
            "Epoch 43 : 9422 / 10000\n",
            "Epoch 44 : 9420 / 10000\n",
            "Epoch 45 : 9426 / 10000\n",
            "Epoch 46 : 9430 / 10000\n",
            "Epoch 47 : 9428 / 10000\n",
            "Epoch 48 : 9429 / 10000\n",
            "Epoch 49 : 9420 / 10000\n"
          ],
          "name": "stdout"
        }
      ]
    },
    {
      "cell_type": "code",
      "metadata": {
        "id": "gpRBj7aUp6OE",
        "colab": {
          "base_uri": "https://localhost:8080/",
          "height": 297
        },
        "outputId": "9b9d3d5a-2993-4cf9-944d-ca0da3cfffc7"
      },
      "source": [
        "plt.plot(test_accuracy)\n",
        "plt.xlabel('Epoch')\n",
        "plt.ylabel('accuracy')"
      ],
      "execution_count": null,
      "outputs": [
        {
          "output_type": "execute_result",
          "data": {
            "text/plain": [
              "Text(0, 0.5, 'accuracy')"
            ]
          },
          "metadata": {
            "tags": []
          },
          "execution_count": 58
        },
        {
          "output_type": "display_data",
          "data": {
            "image/png": "[encoded data removed]",
            "text/plain": [
              "<Figure size 432x288 with 1 Axes>"
            ]
          },
          "metadata": {
            "tags": [],
            "needs_background": "light"
          }
        }
      ]
    },
    {
      "cell_type": "code",
      "metadata": {
        "colab": {
          "base_uri": "https://localhost:8080/",
          "height": 299
        },
        "id": "Fp-v-NsuUVvH",
        "outputId": "d62cd456-062e-430b-fa30-8536823adf23"
      },
      "source": [
        "plt.plot(training_cost)\n",
        "plt.xlabel('Epoch')\n",
        "plt.ylabel('cost')"
      ],
      "execution_count": null,
      "outputs": [
        {
          "output_type": "execute_result",
          "data": {
            "text/plain": [
              "Text(0, 0.5, 'cost')"
            ]
          },
          "metadata": {
            "tags": []
          },
          "execution_count": 59
        },
        {
          "output_type": "display_data",
          "data": {
            "image/png": "[encoded data removed]",
            "text/plain": [
              "<Figure size 432x288 with 1 Axes>"
            ]
          },
          "metadata": {
            "tags": [],
            "needs_background": "light"
          }
        }
      ]
    },
    {
      "cell_type": "code",
      "metadata": {
        "colab": {
          "base_uri": "https://localhost:8080/"
        },
        "id": "b56TsO4QUdmQ",
        "outputId": "389ba1be-89f5-4f89-b178-ec0201d07cae"
      },
      "source": [
        "\n",
        "training_cost_1,test_accuracy_1 = net.Katyusha(training_data, 30, 20,\n",
        "            test_data=test_data)"
      ],
      "execution_count": null,
      "outputs": [
        {
          "output_type": "stream",
          "text": [
            "Epoch 0 : 6039 / 10000\n",
            "Epoch 1 : 7830 / 10000\n",
            "Epoch 2 : 8747 / 10000\n",
            "Epoch 3 : 8957 / 10000\n",
            "Epoch 4 : 9075 / 10000\n",
            "Epoch 5 : 9124 / 10000\n",
            "Epoch 6 : 9192 / 10000\n",
            "Epoch 7 : 9229 / 10000\n",
            "Epoch 8 : 9258 / 10000\n",
            "Epoch 9 : 9273 / 10000\n",
            "Epoch 10 : 9298 / 10000\n",
            "Epoch 11 : 9307 / 10000\n",
            "Epoch 12 : 9323 / 10000\n",
            "Epoch 13 : 9330 / 10000\n",
            "Epoch 14 : 9342 / 10000\n",
            "Epoch 15 : 9354 / 10000\n",
            "Epoch 16 : 9351 / 10000\n",
            "Epoch 17 : 9355 / 10000\n",
            "Epoch 18 : 9354 / 10000\n",
            "Epoch 19 : 9356 / 10000\n",
            "Epoch 20 : 9366 / 10000\n",
            "Epoch 21 : 9370 / 10000\n",
            "Epoch 22 : 9377 / 10000\n",
            "Epoch 23 : 9379 / 10000\n",
            "Epoch 24 : 9383 / 10000\n",
            "Epoch 25 : 9388 / 10000\n",
            "Epoch 26 : 9391 / 10000\n",
            "Epoch 27 : 9395 / 10000\n",
            "Epoch 28 : 9404 / 10000\n",
            "Epoch 29 : 9407 / 10000\n"
          ],
          "name": "stdout"
        }
      ]
    },
    {
      "cell_type": "code",
      "metadata": {
        "id": "Zx2Rnb-0UzJy",
        "colab": {
          "base_uri": "https://localhost:8080/",
          "height": 313
        },
        "outputId": "56c16b0e-bce3-4ac9-b70c-34df7c843f8c"
      },
      "source": [
        "plt.plot(test_accuracy_1)\n",
        "plt.title('Accuracy on MNIST test data')\n",
        "plt.xlabel('Epoch')\n",
        "plt.ylabel('accuracy')"
      ],
      "execution_count": null,
      "outputs": [
        {
          "output_type": "execute_result",
          "data": {
            "text/plain": [
              "Text(0, 0.5, 'accuracy')"
            ]
          },
          "metadata": {
            "tags": []
          },
          "execution_count": 24
        },
        {
          "output_type": "display_data",
          "data": {
            "image/png": "[encoded data removed]",
            "text/plain": [
              "<Figure size 432x288 with 1 Axes>"
            ]
          },
          "metadata": {
            "tags": [],
            "needs_background": "light"
          }
        }
      ]
    },
    {
      "cell_type": "code",
      "metadata": {
        "colab": {
          "base_uri": "https://localhost:8080/",
          "height": 313
        },
        "id": "clG03FCNXxWq",
        "outputId": "af8d85aa-8998-4c1f-e3e0-a19efc95944a"
      },
      "source": [
        "plt.plot(training_cost_1)\n",
        "plt.title('Training cost for MNIST')\n",
        "plt.xlabel('Epoch')\n",
        "plt.ylabel('cost')"
      ],
      "execution_count": null,
      "outputs": [
        {
          "output_type": "execute_result",
          "data": {
            "text/plain": [
              "Text(0, 0.5, 'cost')"
            ]
          },
          "metadata": {
            "tags": []
          },
          "execution_count": 25
        },
        {
          "output_type": "display_data",
          "data": {
            "image/png": "[encoded data removed]",
            "text/plain": [
              "<Figure size 432x288 with 1 Axes>"
            ]
          },
          "metadata": {
            "tags": [],
            "needs_background": "light"
          }
        }
      ]
    },
    {
      "cell_type": "code",
      "metadata": {
        "id": "jBQS6qW873Ul"
      },
      "source": [
        ""
      ],
      "execution_count": null,
      "outputs": []
    }
  ]
}